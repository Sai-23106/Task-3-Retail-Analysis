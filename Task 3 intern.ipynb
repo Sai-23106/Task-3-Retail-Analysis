{
 "cells": [
  {
   "cell_type": "markdown",
   "metadata": {},
   "source": [
    "# Task 3 Exploratory Data Analysis - Retail"
   ]
  },
  {
   "cell_type": "markdown",
   "metadata": {},
   "source": [
    "### Author : Sai"
   ]
  },
  {
   "cell_type": "markdown",
   "metadata": {},
   "source": [
    "## Defining Objective\n",
    "\n",
    "***Aim: As a business manager, try to find out the weak areas where you can\n",
    "work to make more profit. What all business problems you can derive by exploring the data?***"
   ]
  },
  {
   "cell_type": "markdown",
   "metadata": {},
   "source": [
    "# Collecting Data and importing libraries"
   ]
  },
  {
   "cell_type": "code",
   "execution_count": 9,
   "metadata": {},
   "outputs": [],
   "source": [
    "import pandas as pd\n",
    "import matplotlib.pyplot as plt\n",
    "%matplotlib inline"
   ]
  },
  {
   "cell_type": "code",
   "execution_count": 2,
   "metadata": {},
   "outputs": [],
   "source": [
    "df = pd.read_csv('SampleSuperstore.csv')"
   ]
  },
  {
   "cell_type": "code",
   "execution_count": 3,
   "metadata": {},
   "outputs": [
    {
     "data": {
      "text/html": [
       "<div>\n",
       "<style scoped>\n",
       "    .dataframe tbody tr th:only-of-type {\n",
       "        vertical-align: middle;\n",
       "    }\n",
       "\n",
       "    .dataframe tbody tr th {\n",
       "        vertical-align: top;\n",
       "    }\n",
       "\n",
       "    .dataframe thead th {\n",
       "        text-align: right;\n",
       "    }\n",
       "</style>\n",
       "<table border=\"1\" class=\"dataframe\">\n",
       "  <thead>\n",
       "    <tr style=\"text-align: right;\">\n",
       "      <th></th>\n",
       "      <th>Ship Mode</th>\n",
       "      <th>Segment</th>\n",
       "      <th>Country</th>\n",
       "      <th>City</th>\n",
       "      <th>State</th>\n",
       "      <th>Postal Code</th>\n",
       "      <th>Region</th>\n",
       "      <th>Category</th>\n",
       "      <th>Sub-Category</th>\n",
       "      <th>Sales</th>\n",
       "      <th>Quantity</th>\n",
       "      <th>Discount</th>\n",
       "      <th>Profit</th>\n",
       "    </tr>\n",
       "  </thead>\n",
       "  <tbody>\n",
       "    <tr>\n",
       "      <th>0</th>\n",
       "      <td>Second Class</td>\n",
       "      <td>Consumer</td>\n",
       "      <td>United States</td>\n",
       "      <td>Henderson</td>\n",
       "      <td>Kentucky</td>\n",
       "      <td>42420</td>\n",
       "      <td>South</td>\n",
       "      <td>Furniture</td>\n",
       "      <td>Bookcases</td>\n",
       "      <td>261.9600</td>\n",
       "      <td>2</td>\n",
       "      <td>0.00</td>\n",
       "      <td>41.9136</td>\n",
       "    </tr>\n",
       "    <tr>\n",
       "      <th>1</th>\n",
       "      <td>Second Class</td>\n",
       "      <td>Consumer</td>\n",
       "      <td>United States</td>\n",
       "      <td>Henderson</td>\n",
       "      <td>Kentucky</td>\n",
       "      <td>42420</td>\n",
       "      <td>South</td>\n",
       "      <td>Furniture</td>\n",
       "      <td>Chairs</td>\n",
       "      <td>731.9400</td>\n",
       "      <td>3</td>\n",
       "      <td>0.00</td>\n",
       "      <td>219.5820</td>\n",
       "    </tr>\n",
       "    <tr>\n",
       "      <th>2</th>\n",
       "      <td>Second Class</td>\n",
       "      <td>Corporate</td>\n",
       "      <td>United States</td>\n",
       "      <td>Los Angeles</td>\n",
       "      <td>California</td>\n",
       "      <td>90036</td>\n",
       "      <td>West</td>\n",
       "      <td>Office Supplies</td>\n",
       "      <td>Labels</td>\n",
       "      <td>14.6200</td>\n",
       "      <td>2</td>\n",
       "      <td>0.00</td>\n",
       "      <td>6.8714</td>\n",
       "    </tr>\n",
       "    <tr>\n",
       "      <th>3</th>\n",
       "      <td>Standard Class</td>\n",
       "      <td>Consumer</td>\n",
       "      <td>United States</td>\n",
       "      <td>Fort Lauderdale</td>\n",
       "      <td>Florida</td>\n",
       "      <td>33311</td>\n",
       "      <td>South</td>\n",
       "      <td>Furniture</td>\n",
       "      <td>Tables</td>\n",
       "      <td>957.5775</td>\n",
       "      <td>5</td>\n",
       "      <td>0.45</td>\n",
       "      <td>-383.0310</td>\n",
       "    </tr>\n",
       "    <tr>\n",
       "      <th>4</th>\n",
       "      <td>Standard Class</td>\n",
       "      <td>Consumer</td>\n",
       "      <td>United States</td>\n",
       "      <td>Fort Lauderdale</td>\n",
       "      <td>Florida</td>\n",
       "      <td>33311</td>\n",
       "      <td>South</td>\n",
       "      <td>Office Supplies</td>\n",
       "      <td>Storage</td>\n",
       "      <td>22.3680</td>\n",
       "      <td>2</td>\n",
       "      <td>0.20</td>\n",
       "      <td>2.5164</td>\n",
       "    </tr>\n",
       "    <tr>\n",
       "      <th>5</th>\n",
       "      <td>Standard Class</td>\n",
       "      <td>Consumer</td>\n",
       "      <td>United States</td>\n",
       "      <td>Los Angeles</td>\n",
       "      <td>California</td>\n",
       "      <td>90032</td>\n",
       "      <td>West</td>\n",
       "      <td>Furniture</td>\n",
       "      <td>Furnishings</td>\n",
       "      <td>48.8600</td>\n",
       "      <td>7</td>\n",
       "      <td>0.00</td>\n",
       "      <td>14.1694</td>\n",
       "    </tr>\n",
       "    <tr>\n",
       "      <th>6</th>\n",
       "      <td>Standard Class</td>\n",
       "      <td>Consumer</td>\n",
       "      <td>United States</td>\n",
       "      <td>Los Angeles</td>\n",
       "      <td>California</td>\n",
       "      <td>90032</td>\n",
       "      <td>West</td>\n",
       "      <td>Office Supplies</td>\n",
       "      <td>Art</td>\n",
       "      <td>7.2800</td>\n",
       "      <td>4</td>\n",
       "      <td>0.00</td>\n",
       "      <td>1.9656</td>\n",
       "    </tr>\n",
       "    <tr>\n",
       "      <th>7</th>\n",
       "      <td>Standard Class</td>\n",
       "      <td>Consumer</td>\n",
       "      <td>United States</td>\n",
       "      <td>Los Angeles</td>\n",
       "      <td>California</td>\n",
       "      <td>90032</td>\n",
       "      <td>West</td>\n",
       "      <td>Technology</td>\n",
       "      <td>Phones</td>\n",
       "      <td>907.1520</td>\n",
       "      <td>6</td>\n",
       "      <td>0.20</td>\n",
       "      <td>90.7152</td>\n",
       "    </tr>\n",
       "    <tr>\n",
       "      <th>8</th>\n",
       "      <td>Standard Class</td>\n",
       "      <td>Consumer</td>\n",
       "      <td>United States</td>\n",
       "      <td>Los Angeles</td>\n",
       "      <td>California</td>\n",
       "      <td>90032</td>\n",
       "      <td>West</td>\n",
       "      <td>Office Supplies</td>\n",
       "      <td>Binders</td>\n",
       "      <td>18.5040</td>\n",
       "      <td>3</td>\n",
       "      <td>0.20</td>\n",
       "      <td>5.7825</td>\n",
       "    </tr>\n",
       "    <tr>\n",
       "      <th>9</th>\n",
       "      <td>Standard Class</td>\n",
       "      <td>Consumer</td>\n",
       "      <td>United States</td>\n",
       "      <td>Los Angeles</td>\n",
       "      <td>California</td>\n",
       "      <td>90032</td>\n",
       "      <td>West</td>\n",
       "      <td>Office Supplies</td>\n",
       "      <td>Appliances</td>\n",
       "      <td>114.9000</td>\n",
       "      <td>5</td>\n",
       "      <td>0.00</td>\n",
       "      <td>34.4700</td>\n",
       "    </tr>\n",
       "  </tbody>\n",
       "</table>\n",
       "</div>"
      ],
      "text/plain": [
       "        Ship Mode    Segment        Country             City       State  \\\n",
       "0    Second Class   Consumer  United States        Henderson    Kentucky   \n",
       "1    Second Class   Consumer  United States        Henderson    Kentucky   \n",
       "2    Second Class  Corporate  United States      Los Angeles  California   \n",
       "3  Standard Class   Consumer  United States  Fort Lauderdale     Florida   \n",
       "4  Standard Class   Consumer  United States  Fort Lauderdale     Florida   \n",
       "5  Standard Class   Consumer  United States      Los Angeles  California   \n",
       "6  Standard Class   Consumer  United States      Los Angeles  California   \n",
       "7  Standard Class   Consumer  United States      Los Angeles  California   \n",
       "8  Standard Class   Consumer  United States      Los Angeles  California   \n",
       "9  Standard Class   Consumer  United States      Los Angeles  California   \n",
       "\n",
       "   Postal Code Region         Category Sub-Category     Sales  Quantity  \\\n",
       "0        42420  South        Furniture    Bookcases  261.9600         2   \n",
       "1        42420  South        Furniture       Chairs  731.9400         3   \n",
       "2        90036   West  Office Supplies       Labels   14.6200         2   \n",
       "3        33311  South        Furniture       Tables  957.5775         5   \n",
       "4        33311  South  Office Supplies      Storage   22.3680         2   \n",
       "5        90032   West        Furniture  Furnishings   48.8600         7   \n",
       "6        90032   West  Office Supplies          Art    7.2800         4   \n",
       "7        90032   West       Technology       Phones  907.1520         6   \n",
       "8        90032   West  Office Supplies      Binders   18.5040         3   \n",
       "9        90032   West  Office Supplies   Appliances  114.9000         5   \n",
       "\n",
       "   Discount    Profit  \n",
       "0      0.00   41.9136  \n",
       "1      0.00  219.5820  \n",
       "2      0.00    6.8714  \n",
       "3      0.45 -383.0310  \n",
       "4      0.20    2.5164  \n",
       "5      0.00   14.1694  \n",
       "6      0.00    1.9656  \n",
       "7      0.20   90.7152  \n",
       "8      0.20    5.7825  \n",
       "9      0.00   34.4700  "
      ]
     },
     "execution_count": 3,
     "metadata": {},
     "output_type": "execute_result"
    }
   ],
   "source": [
    "df.head(10)"
   ]
  },
  {
   "cell_type": "code",
   "execution_count": 4,
   "metadata": {},
   "outputs": [
    {
     "data": {
      "text/plain": [
       "(9994, 13)"
      ]
     },
     "execution_count": 4,
     "metadata": {},
     "output_type": "execute_result"
    }
   ],
   "source": [
    "df.shape"
   ]
  },
  {
   "cell_type": "markdown",
   "metadata": {},
   "source": [
    "There are total 9994 observations and 13 attributes present in the data."
   ]
  },
  {
   "cell_type": "markdown",
   "metadata": {},
   "source": [
    "# Data cleaning"
   ]
  },
  {
   "cell_type": "code",
   "execution_count": 5,
   "metadata": {},
   "outputs": [
    {
     "data": {
      "text/plain": [
       "Ship Mode       0\n",
       "Segment         0\n",
       "Country         0\n",
       "City            0\n",
       "State           0\n",
       "Postal Code     0\n",
       "Region          0\n",
       "Category        0\n",
       "Sub-Category    0\n",
       "Sales           0\n",
       "Quantity        0\n",
       "Discount        0\n",
       "Profit          0\n",
       "dtype: int64"
      ]
     },
     "execution_count": 5,
     "metadata": {},
     "output_type": "execute_result"
    }
   ],
   "source": [
    "df.isnull().sum()"
   ]
  },
  {
   "cell_type": "markdown",
   "metadata": {},
   "source": [
    "As it can be noticed, there are no null values present in the data."
   ]
  },
  {
   "cell_type": "code",
   "execution_count": 6,
   "metadata": {},
   "outputs": [
    {
     "data": {
      "text/plain": [
       "Ship Mode        object\n",
       "Segment          object\n",
       "Country          object\n",
       "City             object\n",
       "State            object\n",
       "Postal Code       int64\n",
       "Region           object\n",
       "Category         object\n",
       "Sub-Category     object\n",
       "Sales           float64\n",
       "Quantity          int64\n",
       "Discount        float64\n",
       "Profit          float64\n",
       "dtype: object"
      ]
     },
     "execution_count": 6,
     "metadata": {},
     "output_type": "execute_result"
    }
   ],
   "source": [
    "df.dtypes"
   ]
  },
  {
   "cell_type": "markdown",
   "metadata": {},
   "source": [
    "Quantity and Discount can never be negative. Hence, it's necessary to check for these values so that it can be \n",
    "removed and replaced. "
   ]
  },
  {
   "cell_type": "code",
   "execution_count": 7,
   "metadata": {},
   "outputs": [],
   "source": [
    "for j in df['Quantity']:\n",
    "    if j<0:\n",
    "        print(\"Negative value spotted\")\n",
    "for k in df['Discount']:\n",
    "    if k<0:\n",
    "        print(\"Negtaive value spotted\")"
   ]
  },
  {
   "cell_type": "markdown",
   "metadata": {},
   "source": [
    "As it can be noticed, there are no negative values present in the data. "
   ]
  },
  {
   "cell_type": "markdown",
   "metadata": {},
   "source": [
    "Now, we need to check for duplicated values. If they are present, they must be removed."
   ]
  },
  {
   "cell_type": "code",
   "execution_count": 8,
   "metadata": {},
   "outputs": [
    {
     "data": {
      "text/plain": [
       "17"
      ]
     },
     "execution_count": 8,
     "metadata": {},
     "output_type": "execute_result"
    }
   ],
   "source": [
    "df.duplicated().sum()"
   ]
  },
  {
   "cell_type": "markdown",
   "metadata": {},
   "source": [
    "There are 17 duplicated values in the data, so we need to remove them. "
   ]
  },
  {
   "cell_type": "code",
   "execution_count": 12,
   "metadata": {},
   "outputs": [
    {
     "data": {
      "text/plain": [
       "0"
      ]
     },
     "execution_count": 12,
     "metadata": {},
     "output_type": "execute_result"
    }
   ],
   "source": [
    "df = pd.DataFrame.drop_duplicates(df)\n",
    "df.duplicated().sum()"
   ]
  },
  {
   "cell_type": "markdown",
   "metadata": {},
   "source": [
    "The column postal code serves no purpose for our analysis as we already know the city and region. It also does not give the \n",
    "overall picture of the sales in each city like region. Hence, we should drop it."
   ]
  },
  {
   "cell_type": "code",
   "execution_count": 13,
   "metadata": {},
   "outputs": [
    {
     "data": {
      "text/html": [
       "<div>\n",
       "<style scoped>\n",
       "    .dataframe tbody tr th:only-of-type {\n",
       "        vertical-align: middle;\n",
       "    }\n",
       "\n",
       "    .dataframe tbody tr th {\n",
       "        vertical-align: top;\n",
       "    }\n",
       "\n",
       "    .dataframe thead th {\n",
       "        text-align: right;\n",
       "    }\n",
       "</style>\n",
       "<table border=\"1\" class=\"dataframe\">\n",
       "  <thead>\n",
       "    <tr style=\"text-align: right;\">\n",
       "      <th></th>\n",
       "      <th>Ship Mode</th>\n",
       "      <th>Segment</th>\n",
       "      <th>Country</th>\n",
       "      <th>City</th>\n",
       "      <th>State</th>\n",
       "      <th>Region</th>\n",
       "      <th>Category</th>\n",
       "      <th>Sub-Category</th>\n",
       "      <th>Sales</th>\n",
       "      <th>Quantity</th>\n",
       "      <th>Discount</th>\n",
       "      <th>Profit</th>\n",
       "    </tr>\n",
       "  </thead>\n",
       "  <tbody>\n",
       "    <tr>\n",
       "      <th>0</th>\n",
       "      <td>Second Class</td>\n",
       "      <td>Consumer</td>\n",
       "      <td>United States</td>\n",
       "      <td>Henderson</td>\n",
       "      <td>Kentucky</td>\n",
       "      <td>South</td>\n",
       "      <td>Furniture</td>\n",
       "      <td>Bookcases</td>\n",
       "      <td>261.9600</td>\n",
       "      <td>2</td>\n",
       "      <td>0.00</td>\n",
       "      <td>41.9136</td>\n",
       "    </tr>\n",
       "    <tr>\n",
       "      <th>1</th>\n",
       "      <td>Second Class</td>\n",
       "      <td>Consumer</td>\n",
       "      <td>United States</td>\n",
       "      <td>Henderson</td>\n",
       "      <td>Kentucky</td>\n",
       "      <td>South</td>\n",
       "      <td>Furniture</td>\n",
       "      <td>Chairs</td>\n",
       "      <td>731.9400</td>\n",
       "      <td>3</td>\n",
       "      <td>0.00</td>\n",
       "      <td>219.5820</td>\n",
       "    </tr>\n",
       "    <tr>\n",
       "      <th>2</th>\n",
       "      <td>Second Class</td>\n",
       "      <td>Corporate</td>\n",
       "      <td>United States</td>\n",
       "      <td>Los Angeles</td>\n",
       "      <td>California</td>\n",
       "      <td>West</td>\n",
       "      <td>Office Supplies</td>\n",
       "      <td>Labels</td>\n",
       "      <td>14.6200</td>\n",
       "      <td>2</td>\n",
       "      <td>0.00</td>\n",
       "      <td>6.8714</td>\n",
       "    </tr>\n",
       "    <tr>\n",
       "      <th>3</th>\n",
       "      <td>Standard Class</td>\n",
       "      <td>Consumer</td>\n",
       "      <td>United States</td>\n",
       "      <td>Fort Lauderdale</td>\n",
       "      <td>Florida</td>\n",
       "      <td>South</td>\n",
       "      <td>Furniture</td>\n",
       "      <td>Tables</td>\n",
       "      <td>957.5775</td>\n",
       "      <td>5</td>\n",
       "      <td>0.45</td>\n",
       "      <td>-383.0310</td>\n",
       "    </tr>\n",
       "    <tr>\n",
       "      <th>4</th>\n",
       "      <td>Standard Class</td>\n",
       "      <td>Consumer</td>\n",
       "      <td>United States</td>\n",
       "      <td>Fort Lauderdale</td>\n",
       "      <td>Florida</td>\n",
       "      <td>South</td>\n",
       "      <td>Office Supplies</td>\n",
       "      <td>Storage</td>\n",
       "      <td>22.3680</td>\n",
       "      <td>2</td>\n",
       "      <td>0.20</td>\n",
       "      <td>2.5164</td>\n",
       "    </tr>\n",
       "    <tr>\n",
       "      <th>5</th>\n",
       "      <td>Standard Class</td>\n",
       "      <td>Consumer</td>\n",
       "      <td>United States</td>\n",
       "      <td>Los Angeles</td>\n",
       "      <td>California</td>\n",
       "      <td>West</td>\n",
       "      <td>Furniture</td>\n",
       "      <td>Furnishings</td>\n",
       "      <td>48.8600</td>\n",
       "      <td>7</td>\n",
       "      <td>0.00</td>\n",
       "      <td>14.1694</td>\n",
       "    </tr>\n",
       "    <tr>\n",
       "      <th>6</th>\n",
       "      <td>Standard Class</td>\n",
       "      <td>Consumer</td>\n",
       "      <td>United States</td>\n",
       "      <td>Los Angeles</td>\n",
       "      <td>California</td>\n",
       "      <td>West</td>\n",
       "      <td>Office Supplies</td>\n",
       "      <td>Art</td>\n",
       "      <td>7.2800</td>\n",
       "      <td>4</td>\n",
       "      <td>0.00</td>\n",
       "      <td>1.9656</td>\n",
       "    </tr>\n",
       "    <tr>\n",
       "      <th>7</th>\n",
       "      <td>Standard Class</td>\n",
       "      <td>Consumer</td>\n",
       "      <td>United States</td>\n",
       "      <td>Los Angeles</td>\n",
       "      <td>California</td>\n",
       "      <td>West</td>\n",
       "      <td>Technology</td>\n",
       "      <td>Phones</td>\n",
       "      <td>907.1520</td>\n",
       "      <td>6</td>\n",
       "      <td>0.20</td>\n",
       "      <td>90.7152</td>\n",
       "    </tr>\n",
       "    <tr>\n",
       "      <th>8</th>\n",
       "      <td>Standard Class</td>\n",
       "      <td>Consumer</td>\n",
       "      <td>United States</td>\n",
       "      <td>Los Angeles</td>\n",
       "      <td>California</td>\n",
       "      <td>West</td>\n",
       "      <td>Office Supplies</td>\n",
       "      <td>Binders</td>\n",
       "      <td>18.5040</td>\n",
       "      <td>3</td>\n",
       "      <td>0.20</td>\n",
       "      <td>5.7825</td>\n",
       "    </tr>\n",
       "    <tr>\n",
       "      <th>9</th>\n",
       "      <td>Standard Class</td>\n",
       "      <td>Consumer</td>\n",
       "      <td>United States</td>\n",
       "      <td>Los Angeles</td>\n",
       "      <td>California</td>\n",
       "      <td>West</td>\n",
       "      <td>Office Supplies</td>\n",
       "      <td>Appliances</td>\n",
       "      <td>114.9000</td>\n",
       "      <td>5</td>\n",
       "      <td>0.00</td>\n",
       "      <td>34.4700</td>\n",
       "    </tr>\n",
       "  </tbody>\n",
       "</table>\n",
       "</div>"
      ],
      "text/plain": [
       "        Ship Mode    Segment        Country             City       State  \\\n",
       "0    Second Class   Consumer  United States        Henderson    Kentucky   \n",
       "1    Second Class   Consumer  United States        Henderson    Kentucky   \n",
       "2    Second Class  Corporate  United States      Los Angeles  California   \n",
       "3  Standard Class   Consumer  United States  Fort Lauderdale     Florida   \n",
       "4  Standard Class   Consumer  United States  Fort Lauderdale     Florida   \n",
       "5  Standard Class   Consumer  United States      Los Angeles  California   \n",
       "6  Standard Class   Consumer  United States      Los Angeles  California   \n",
       "7  Standard Class   Consumer  United States      Los Angeles  California   \n",
       "8  Standard Class   Consumer  United States      Los Angeles  California   \n",
       "9  Standard Class   Consumer  United States      Los Angeles  California   \n",
       "\n",
       "  Region         Category Sub-Category     Sales  Quantity  Discount    Profit  \n",
       "0  South        Furniture    Bookcases  261.9600         2      0.00   41.9136  \n",
       "1  South        Furniture       Chairs  731.9400         3      0.00  219.5820  \n",
       "2   West  Office Supplies       Labels   14.6200         2      0.00    6.8714  \n",
       "3  South        Furniture       Tables  957.5775         5      0.45 -383.0310  \n",
       "4  South  Office Supplies      Storage   22.3680         2      0.20    2.5164  \n",
       "5   West        Furniture  Furnishings   48.8600         7      0.00   14.1694  \n",
       "6   West  Office Supplies          Art    7.2800         4      0.00    1.9656  \n",
       "7   West       Technology       Phones  907.1520         6      0.20   90.7152  \n",
       "8   West  Office Supplies      Binders   18.5040         3      0.20    5.7825  \n",
       "9   West  Office Supplies   Appliances  114.9000         5      0.00   34.4700  "
      ]
     },
     "execution_count": 13,
     "metadata": {},
     "output_type": "execute_result"
    }
   ],
   "source": [
    "df_new = df.drop(['Postal Code'], axis=1)\n",
    "df_new.head(10)"
   ]
  },
  {
   "cell_type": "code",
   "execution_count": 14,
   "metadata": {},
   "outputs": [
    {
     "data": {
      "text/plain": [
       "(9977, 12)"
      ]
     },
     "execution_count": 14,
     "metadata": {},
     "output_type": "execute_result"
    }
   ],
   "source": [
    "df_new.shape"
   ]
  },
  {
   "cell_type": "markdown",
   "metadata": {},
   "source": [
    "We have the same number of observations, but now, we have 12 attributes"
   ]
  },
  {
   "cell_type": "code",
   "execution_count": 15,
   "metadata": {},
   "outputs": [
    {
     "data": {
      "text/html": [
       "<div>\n",
       "<style scoped>\n",
       "    .dataframe tbody tr th:only-of-type {\n",
       "        vertical-align: middle;\n",
       "    }\n",
       "\n",
       "    .dataframe tbody tr th {\n",
       "        vertical-align: top;\n",
       "    }\n",
       "\n",
       "    .dataframe thead th {\n",
       "        text-align: right;\n",
       "    }\n",
       "</style>\n",
       "<table border=\"1\" class=\"dataframe\">\n",
       "  <thead>\n",
       "    <tr style=\"text-align: right;\">\n",
       "      <th></th>\n",
       "      <th>Sales</th>\n",
       "      <th>Quantity</th>\n",
       "      <th>Discount</th>\n",
       "      <th>Profit</th>\n",
       "    </tr>\n",
       "  </thead>\n",
       "  <tbody>\n",
       "    <tr>\n",
       "      <th>count</th>\n",
       "      <td>9977.000000</td>\n",
       "      <td>9977.000000</td>\n",
       "      <td>9977.000000</td>\n",
       "      <td>9977.00000</td>\n",
       "    </tr>\n",
       "    <tr>\n",
       "      <th>mean</th>\n",
       "      <td>230.148902</td>\n",
       "      <td>3.790719</td>\n",
       "      <td>0.156278</td>\n",
       "      <td>28.69013</td>\n",
       "    </tr>\n",
       "    <tr>\n",
       "      <th>std</th>\n",
       "      <td>623.721409</td>\n",
       "      <td>2.226657</td>\n",
       "      <td>0.206455</td>\n",
       "      <td>234.45784</td>\n",
       "    </tr>\n",
       "    <tr>\n",
       "      <th>min</th>\n",
       "      <td>0.444000</td>\n",
       "      <td>1.000000</td>\n",
       "      <td>0.000000</td>\n",
       "      <td>-6599.97800</td>\n",
       "    </tr>\n",
       "    <tr>\n",
       "      <th>25%</th>\n",
       "      <td>17.300000</td>\n",
       "      <td>2.000000</td>\n",
       "      <td>0.000000</td>\n",
       "      <td>1.72620</td>\n",
       "    </tr>\n",
       "    <tr>\n",
       "      <th>50%</th>\n",
       "      <td>54.816000</td>\n",
       "      <td>3.000000</td>\n",
       "      <td>0.200000</td>\n",
       "      <td>8.67100</td>\n",
       "    </tr>\n",
       "    <tr>\n",
       "      <th>75%</th>\n",
       "      <td>209.970000</td>\n",
       "      <td>5.000000</td>\n",
       "      <td>0.200000</td>\n",
       "      <td>29.37200</td>\n",
       "    </tr>\n",
       "    <tr>\n",
       "      <th>max</th>\n",
       "      <td>22638.480000</td>\n",
       "      <td>14.000000</td>\n",
       "      <td>0.800000</td>\n",
       "      <td>8399.97600</td>\n",
       "    </tr>\n",
       "  </tbody>\n",
       "</table>\n",
       "</div>"
      ],
      "text/plain": [
       "              Sales     Quantity     Discount      Profit\n",
       "count   9977.000000  9977.000000  9977.000000  9977.00000\n",
       "mean     230.148902     3.790719     0.156278    28.69013\n",
       "std      623.721409     2.226657     0.206455   234.45784\n",
       "min        0.444000     1.000000     0.000000 -6599.97800\n",
       "25%       17.300000     2.000000     0.000000     1.72620\n",
       "50%       54.816000     3.000000     0.200000     8.67100\n",
       "75%      209.970000     5.000000     0.200000    29.37200\n",
       "max    22638.480000    14.000000     0.800000  8399.97600"
      ]
     },
     "execution_count": 15,
     "metadata": {},
     "output_type": "execute_result"
    }
   ],
   "source": [
    "df_new.describe()"
   ]
  },
  {
   "cell_type": "markdown",
   "metadata": {},
   "source": [
    "This shows a summary of the statistics of numerical variables. Now, we need to find the outliers present and remove them. "
   ]
  },
  {
   "cell_type": "code",
   "execution_count": 16,
   "metadata": {},
   "outputs": [],
   "source": [
    "Q1 = df_new.quantile(0.25)\n",
    "Q3 = df_new.quantile(0.75)\n",
    "IQR = Q3 - Q1\n",
    "min_wh = Q1-(IQR*1.5)\n",
    "max_wh = Q3+(IQR*1.5)"
   ]
  },
  {
   "cell_type": "code",
   "execution_count": 17,
   "metadata": {},
   "outputs": [],
   "source": [
    "df_new = df_new[~((df_new < min_wh) |(df_new > max_wh)).any(axis=1)]"
   ]
  },
  {
   "cell_type": "code",
   "execution_count": 18,
   "metadata": {},
   "outputs": [
    {
     "data": {
      "text/plain": [
       "(7127, 12)"
      ]
     },
     "execution_count": 18,
     "metadata": {},
     "output_type": "execute_result"
    }
   ],
   "source": [
    "df_new.shape"
   ]
  },
  {
   "cell_type": "markdown",
   "metadata": {},
   "source": [
    "As we can see, observations which contained outliers are removed from the data set. We can confirm this by plotting a box plot."
   ]
  },
  {
   "cell_type": "code",
   "execution_count": 19,
   "metadata": {},
   "outputs": [
    {
     "data": {
      "image/png": "[encoded data removed]",
      "text/plain": [
       "<Figure size 432x288 with 1 Axes>"
      ]
     },
     "metadata": {
      "needs_background": "light"
     },
     "output_type": "display_data"
    }
   ],
   "source": [
    "plt.boxplot(df_new['Discount'])\n",
    "plt.show()"
   ]
  },
  {
   "cell_type": "code",
   "execution_count": 20,
   "metadata": {},
   "outputs": [
    {
     "data": {
      "image/png": "[encoded data removed]",
      "text/plain": [
       "<Figure size 432x288 with 1 Axes>"
      ]
     },
     "metadata": {
      "needs_background": "light"
     },
     "output_type": "display_data"
    }
   ],
   "source": [
    "plt.boxplot(df_new['Quantity'])\n",
    "plt.show()"
   ]
  },
  {
   "cell_type": "markdown",
   "metadata": {},
   "source": [
    "The data is clean and ready for analysis"
   ]
  },
  {
   "cell_type": "markdown",
   "metadata": {},
   "source": [
    "# Exploring and Visualising the Data"
   ]
  },
  {
   "cell_type": "markdown",
   "metadata": {},
   "source": [
    "We will now explore some key aspects in the Data. The following things should be known\n",
    "1. Which State/City has the highest/lowest profit/sales? Which product is responsible for it?\n",
    "2. Does having more discount contribute to more profit/sales/quantity?\n",
    "3. Does type of shipping mode have impact on sales/profit?\n",
    "4. Does the type of segment influence profit/sales?\n",
    "\n",
    "Before going to these questions, let's first dig into the data."
   ]
  },
  {
   "cell_type": "markdown",
   "metadata": {},
   "source": [
    "## Pie Charts for Category and Sub Category"
   ]
  },
  {
   "cell_type": "code",
   "execution_count": 22,
   "metadata": {},
   "outputs": [
    {
     "data": {
      "image/png": "[encoded data removed]",
      "text/plain": [
       "<Figure size 432x288 with 1 Axes>"
      ]
     },
     "metadata": {},
     "output_type": "display_data"
    }
   ],
   "source": [
    "labels = 'Office Supplies', 'Furniture', 'Technology'\n",
    "colors = ['gold', 'yellowgreen', 'lightcoral', 'lightskyblue']\n",
    "\n",
    "plt.pie(df_new['Category'].value_counts(), labels=labels, colors=colors,\n",
    "autopct='%1.1f%%', shadow=True, startangle=140)\n",
    "\n",
    "plt.axis('equal')\n",
    "plt.show()"
   ]
  },
  {
   "cell_type": "markdown",
   "metadata": {},
   "source": [
    "As it can be seen, Office Supplies is the most popular category overall. It has recorded 65.5% of the observations. \n",
    "Interestingly, Technology has recorded 0.9% less than Furniture. Since many people work in the Office, this could have \n",
    "let Office supplies get more rows in comparsion to other two categories."
   ]
  },
  {
   "cell_type": "code",
   "execution_count": 23,
   "metadata": {},
   "outputs": [
    {
     "data": {
      "image/png": "[encoded data removed]",
      "text/plain": [
       "<Figure size 432x288 with 1 Axes>"
      ]
     },
     "metadata": {},
     "output_type": "display_data"
    }
   ],
   "source": [
    "labels = ['Paper', 'Binders', 'Art', 'Furnishings','Storage','Accessories','Phones','Labels','Chairs','Appliances','Envelopes','Fasteners','Supplies','Bookcases','Tables','Machines','Copiers']\n",
    "colors = ['yellow','green', 'gold', 'lightskyblue', 'lightcoral', 'blue','red','orange','purple','pink','lightgreen','darkred', 'black','grey','white','brown','violet']\n",
    "plt.pie(df_new['Sub-Category'].value_counts(), colors=colors, shadow=True, startangle=90)\n",
    "plt.legend(labels, loc=\"best\")\n",
    "plt.axis('equal')\n",
    "plt.tight_layout()\n",
    "plt.show()"
   ]
  },
  {
   "cell_type": "markdown",
   "metadata": {},
   "source": [
    "As there are mulitple values, it's best not to show percentages. But given the label, we can clearly identify that Paper \n",
    "received the highest number of the records in the data. An interesting aspect in this pie chart is Art recorded similar\n",
    "records to Binders in the data. Copiers recorded the lowest as it's clearly not visible on the pie chart. Therefore,\n",
    "it is pretty clear that Papers is famous among the items."
   ]
  },
  {
   "cell_type": "markdown",
   "metadata": {},
   "source": [
    "## Checking State data"
   ]
  },
  {
   "cell_type": "code",
   "execution_count": 24,
   "metadata": {},
   "outputs": [
    {
     "data": {
      "text/plain": [
       "California              1601\n",
       "New York                 869\n",
       "Texas                    565\n",
       "Washington               399\n",
       "Pennsylvania             369\n",
       "Ohio                     305\n",
       "Florida                  259\n",
       "Illinois                 248\n",
       "Michigan                 187\n",
       "North Carolina           171\n",
       "Virginia                 167\n",
       "Arizona                  150\n",
       "Georgia                  136\n",
       "Tennessee                135\n",
       "Colorado                 117\n",
       "Indiana                  110\n",
       "Kentucky                 101\n",
       "Massachusetts            100\n",
       "New Jersey                98\n",
       "Oregon                    86\n",
       "Maryland                  81\n",
       "Delaware                  74\n",
       "Wisconsin                 74\n",
       "Minnesota                 67\n",
       "Connecticut               62\n",
       "Missouri                  54\n",
       "Arkansas                  45\n",
       "Oklahoma                  45\n",
       "Alabama                   44\n",
       "Utah                      42\n",
       "Rhode Island              39\n",
       "Mississippi               38\n",
       "South Carolina            34\n",
       "Louisiana                 33\n",
       "Nebraska                  31\n",
       "Nevada                    30\n",
       "New Mexico                30\n",
       "Iowa                      25\n",
       "New Hampshire             21\n",
       "Kansas                    20\n",
       "Idaho                     18\n",
       "Montana                   11\n",
       "South Dakota              10\n",
       "District of Columbia       8\n",
       "Vermont                    6\n",
       "North Dakota               5\n",
       "Maine                      5\n",
       "West Virginia              2\n",
       "Name: State, dtype: int64"
      ]
     },
     "execution_count": 24,
     "metadata": {},
     "output_type": "execute_result"
    }
   ],
   "source": [
    "df_new['State'].value_counts()"
   ]
  },
  {
   "cell_type": "markdown",
   "metadata": {},
   "source": [
    "California is clearly the favourite as it has recorded 1601 rows, meaning there could be really high business activity in the state. West Virgina has only 2 records, which is the lowest among the other states. Overall, we could see a higher volume of business activity in California in comparsion to other states as no other state has more than 1000 rows. "
   ]
  },
  {
   "cell_type": "markdown",
   "metadata": {},
   "source": [
    "## Checking Profit data"
   ]
  },
  {
   "cell_type": "code",
   "execution_count": 25,
   "metadata": {},
   "outputs": [
    {
     "data": {
      "text/plain": [
       "count    7127.000000\n",
       "mean       13.008233\n",
       "std        17.200106\n",
       "min       -39.637000\n",
       "25%         3.239200\n",
       "50%         8.299200\n",
       "75%        19.627650\n",
       "max        70.722000\n",
       "Name: Profit, dtype: float64"
      ]
     },
     "execution_count": 25,
     "metadata": {},
     "output_type": "execute_result"
    }
   ],
   "source": [
    "df_new['Profit'].describe()"
   ]
  },
  {
   "cell_type": "markdown",
   "metadata": {},
   "source": [
    "The maximum profit ever made is 70.72 dollars while the highest loss incurred is 39.64 dollars. By this, we can notice that each businessis coming close to break even, either little bit up or little bit down. Therefore, there is room for improvement to make much bigger profits. "
   ]
  },
  {
   "cell_type": "markdown",
   "metadata": {},
   "source": [
    "## Checking Quantity data"
   ]
  },
  {
   "cell_type": "code",
   "execution_count": 36,
   "metadata": {},
   "outputs": [
    {
     "data": {
      "image/png": "[encoded data removed]",
      "text/plain": [
       "<Figure size 432x288 with 1 Axes>"
      ]
     },
     "metadata": {
      "needs_background": "light"
     },
     "output_type": "display_data"
    }
   ],
   "source": [
    "plt.hist(df_new['Quantity'],bins=9)\n",
    "plt.show()"
   ]
  },
  {
   "cell_type": "markdown",
   "metadata": {},
   "source": [
    "The histogram clearly shows a right skew as most of the data comes from the left side and it is also unimodal. It shows\n",
    "that most customers are clearly interested to buy 2 items. On the other hand, segments do not show much interest to buy more\n",
    "than 7 items. As it can be seen, both quantity number 8 and 9 recorded less than 250 records. However, it has to be noted \n",
    "that quantity number taken depends on the product/item the customer/segment is buying."
   ]
  },
  {
   "cell_type": "markdown",
   "metadata": {},
   "source": [
    "## Checking Discount data"
   ]
  },
  {
   "cell_type": "code",
   "execution_count": 37,
   "metadata": {},
   "outputs": [
    {
     "data": {
      "image/png": "[encoded data removed]",
      "text/plain": [
       "<Figure size 432x288 with 1 Axes>"
      ]
     },
     "metadata": {
      "needs_background": "light"
     },
     "output_type": "display_data"
    }
   ],
   "source": [
    "plt.hist(df_new['Discount'],bins=5)\n",
    "plt.show()"
   ]
  },
  {
   "cell_type": "markdown",
   "metadata": {},
   "source": [
    "The histogram is bimodal and left skewed(mean<median). The discount price which was most popular was giving no discount at all!\n",
    "This is defintely surprising as customers normally expect a discount on the item. The next popular discount is 0.20 dollars, which is more than what 0.10 dollars got. This is another interesting aspect of the data as it presents that the company is reducing 0.10 dollars further for customers. The least favourable discount was 0.50 dollars. This could mean the company is not eager to reduce the price of their product more than 0.20 dollars. In short, the business mostly preffered not to give discount or to give discount of 0.20 dollars."
   ]
  },
  {
   "cell_type": "markdown",
   "metadata": {},
   "source": [
    "## Pie Chart for Segment and Ship mode"
   ]
  },
  {
   "cell_type": "code",
   "execution_count": 28,
   "metadata": {},
   "outputs": [
    {
     "data": {
      "image/png": "[encoded data removed]",
      "text/plain": [
       "<Figure size 432x288 with 1 Axes>"
      ]
     },
     "metadata": {},
     "output_type": "display_data"
    }
   ],
   "source": [
    "labels = 'Consumer', 'Corporate', 'Home Office'\n",
    "colors = ['red','orange','green']\n",
    "\n",
    "plt.pie(df_new['Segment'].value_counts(), labels=labels, colors=colors,\n",
    "autopct='%1.1f%%', shadow=True, startangle=140)\n",
    "\n",
    "plt.axis('equal')\n",
    "plt.show()"
   ]
  },
  {
   "cell_type": "markdown",
   "metadata": {},
   "source": [
    "The type of customers who buy the most are clearly consumers, followed by corporates and people who work in Home \n",
    "offices. The company selling their goods to these segments should consider the interests mostly of the Consumer to increase\n",
    "revenue and sales."
   ]
  },
  {
   "cell_type": "code",
   "execution_count": 29,
   "metadata": {},
   "outputs": [
    {
     "data": {
      "image/png": "[encoded data removed]",
      "text/plain": [
       "<Figure size 432x288 with 1 Axes>"
      ]
     },
     "metadata": {},
     "output_type": "display_data"
    }
   ],
   "source": [
    "labels = 'Standard Class', 'Second Class','First Class','Same Day'\n",
    "colors = ['purple', 'orange', 'blue', 'pink']\n",
    "\n",
    "plt.pie(df_new['Ship Mode'].value_counts(), labels=labels, colors=colors,\n",
    "autopct='%1.1f%%', shadow=True, startangle=140)\n",
    "\n",
    "plt.axis('equal')\n",
    "plt.show()"
   ]
  },
  {
   "cell_type": "markdown",
   "metadata": {},
   "source": [
    "Products are mostly delivered through Standard class, which demonstrates most segments are not willing to pay extra money for First Class Delivery. The products in the data set are not that fragile, which explains why businesses are going for standard class. "
   ]
  },
  {
   "cell_type": "markdown",
   "metadata": {},
   "source": [
    "Now, let's go through each question one by one and get a conclusion"
   ]
  },
  {
   "cell_type": "markdown",
   "metadata": {},
   "source": [
    "## Q1. Which State and City has the highest/lowest profit/sales? Which product is responsible for it?"
   ]
  },
  {
   "cell_type": "code",
   "execution_count": 43,
   "metadata": {},
   "outputs": [],
   "source": [
    "cols = [3,4,7,8,11]\n",
    "df_st = df_new[df_new.columns[cols]]"
   ]
  },
  {
   "cell_type": "code",
   "execution_count": 45,
   "metadata": {},
   "outputs": [
    {
     "name": "stdout",
     "output_type": "stream",
     "text": [
      "70.722\n",
      "1866    Nevada\n",
      "Name: State, dtype: object\n",
      "1866    Henderson\n",
      "Name: City, dtype: object\n"
     ]
    }
   ],
   "source": [
    "high_p = max(df_st['Profit'])\n",
    "print(high_p)\n",
    "print(df_st.loc[df_st['Profit']==high_p, 'State'])\n",
    "print(df_st.loc[df_st['Profit']==high_p, 'City'])"
   ]
  },
  {
   "cell_type": "markdown",
   "metadata": {},
   "source": [
    "Before writing this code, I expected California as it had the highest number of observations, meaning a higher business activity which can contribute to more profits. However, Henderson in Nevada has recorded the highest profit with 70.72 dollars. "
   ]
  },
  {
   "cell_type": "code",
   "execution_count": 32,
   "metadata": {},
   "outputs": [
    {
     "data": {
      "text/plain": [
       "1866    Furnishings\n",
       "Name: Sub-Category, dtype: object"
      ]
     },
     "execution_count": 32,
     "metadata": {},
     "output_type": "execute_result"
    }
   ],
   "source": [
    "df_st.loc[df_st['Profit']==high_p, 'Sub-Category']"
   ]
  },
  {
   "cell_type": "markdown",
   "metadata": {},
   "source": [
    "Furnishings has been chosen as the favourite of customers buying it. Most middle class people do furnishing to make their homes \n",
    "look outstanding. The business company can therefore see to increase number of furnishing items in Henderson."
   ]
  },
  {
   "cell_type": "code",
   "execution_count": 48,
   "metadata": {},
   "outputs": [
    {
     "name": "stdout",
     "output_type": "stream",
     "text": [
      "-39.637\n",
      "6653    Texas\n",
      "Name: State, dtype: object\n",
      "6653    Arlington\n",
      "Name: City, dtype: object\n"
     ]
    }
   ],
   "source": [
    "low_p = min(df_st['Profit'])\n",
    "print(low_p)\n",
    "print(df_st.loc[df_st['Profit']==low_p, 'State'])\n",
    "print(df_st.loc[df_st['Profit']==low_p, 'City'])"
   ]
  },
  {
   "cell_type": "markdown",
   "metadata": {},
   "source": [
    "Arlington, Texas has recorded the highest loss among the other states with 39.64 dollars approximately. This is another surprising aspect as Texas is the third highest state in terms of number of records. This proves that higher records does not guarantee higher profits. "
   ]
  },
  {
   "cell_type": "code",
   "execution_count": 34,
   "metadata": {},
   "outputs": [
    {
     "data": {
      "text/plain": [
       "6653    Chairs\n",
       "Name: Sub-Category, dtype: object"
      ]
     },
     "execution_count": 34,
     "metadata": {},
     "output_type": "execute_result"
    }
   ],
   "source": [
    "df_st.loc[df_st['Profit']==low_p, 'Sub-Category']"
   ]
  },
  {
   "cell_type": "markdown",
   "metadata": {},
   "source": [
    "Chairs has recorded the lowest profit ever in Texas, showing the lack of interest for Texas customers towards Chairs. Therefore, the business company should not invest too much on Chairs for Texas. Instead, they can invest more where Chairs are churning more profit."
   ]
  },
  {
   "cell_type": "code",
   "execution_count": 49,
   "metadata": {},
   "outputs": [
    {
     "name": "stdout",
     "output_type": "stream",
     "text": [
      "68.3332\n",
      "3376    New York\n",
      "Name: State, dtype: object\n",
      "3376    Hempstead\n",
      "Name: City, dtype: object\n"
     ]
    }
   ],
   "source": [
    "max_chair = max(df_st[df_st['Sub-Category']=='Chairs']['Profit'])\n",
    "print(max_chair)\n",
    "print(df_st.loc[df_st['Profit']==max_chair, 'State'])\n",
    "print(df_st.loc[df_st['Profit']==max_chair, 'City'])"
   ]
  },
  {
   "cell_type": "markdown",
   "metadata": {},
   "source": [
    "As it can be seen, Chairs is the favourite for Hempstead, New York as it makes 68.33 dollars profit. Therefore, the business company selling chairs can increase the activity in this city instead of Arlington, Texas. The solution for Arlington to reduce loss and increase revenue is below. "
   ]
  },
  {
   "cell_type": "code",
   "execution_count": 56,
   "metadata": {},
   "outputs": [
    {
     "name": "stdout",
     "output_type": "stream",
     "text": [
      "993     Paper\n",
      "1500    Paper\n",
      "6979    Paper\n",
      "7024    Paper\n",
      "7673    Paper\n",
      "7845    Paper\n",
      "Name: Sub-Category, dtype: object\n"
     ]
    }
   ],
   "source": [
    "max_pro_TX = max(df_st[df_st['City']=='Arlington']['Profit'])\n",
    "print(df_st.loc[df_st['Profit']==max_pro_TX, 'Sub-Category'])"
   ]
  },
  {
   "cell_type": "markdown",
   "metadata": {},
   "source": [
    "Instead of investing more into Chairs, Arlington should focus on increasing the sales of papers. It generates both revenue and profit too. "
   ]
  },
  {
   "cell_type": "markdown",
   "metadata": {},
   "source": [
    "Now, let's take a look at the sales and find out which state/city has highest or lowest sales."
   ]
  },
  {
   "cell_type": "code",
   "execution_count": 63,
   "metadata": {},
   "outputs": [
    {
     "name": "stdout",
     "output_type": "stream",
     "text": [
      "496.86\n",
      "8532    Michigan\n",
      "Name: State, dtype: object\n",
      "8532    Storage\n",
      "Name: Sub-Category, dtype: object\n"
     ]
    }
   ],
   "source": [
    "high_sal = max(df_st['Sales'])\n",
    "print(high_sal)\n",
    "print(df_st.loc[df_st['Sales']==high_sal, 'State'])\n",
    "print(df_st.loc[df_st['Sales']==high_sal, 'Sub-Category'])"
   ]
  },
  {
   "cell_type": "markdown",
   "metadata": {},
   "source": [
    "Michigan has the highest number of sales in comparsion to other states. Once again, this is an unexpected result as it ranks \n",
    "less than California in terms of business activity. Storage is clearly the favourite for Michigan customers. It has recorded \n",
    "highest sales with 496.86 dollars. "
   ]
  },
  {
   "cell_type": "code",
   "execution_count": 65,
   "metadata": {},
   "outputs": [
    {
     "name": "stdout",
     "output_type": "stream",
     "text": [
      "0.99\n",
      "2761    California\n",
      "Name: State, dtype: object\n",
      "2761    San Francisco\n",
      "Name: City, dtype: object\n",
      "8532    Storage\n",
      "Name: Sub-Category, dtype: object\n"
     ]
    }
   ],
   "source": [
    "low_sal = min(df_st['Sales'])\n",
    "print(low_sal)\n",
    "print(df_st.loc[df_st['Sales']==low_sal, 'State'])\n",
    "print(df_st.loc[df_st['Sales']==low_sal, 'City'])\n",
    "print(df_st.loc[df_st['Sales']==high_sal, 'Sub-Category'])"
   ]
  },
  {
   "cell_type": "markdown",
   "metadata": {},
   "source": [
    "The lowest sales recorded in the data set is San Francisco, California. This is defintely a shocking result, but clearly the company distributing storage equipment here should bear in mind not to spend too much to reduce potential losses. Let's see whether \n",
    "they made profit or not."
   ]
  },
  {
   "cell_type": "code",
   "execution_count": 66,
   "metadata": {},
   "outputs": [
    {
     "name": "stdout",
     "output_type": "stream",
     "text": [
      "2761    0.4356\n",
      "Name: Profit, dtype: float64\n"
     ]
    }
   ],
   "source": [
    "print(df_st.loc[df_st['Sales']==low_sal, 'Profit'])"
   ]
  },
  {
   "cell_type": "markdown",
   "metadata": {},
   "source": [
    "They have made profit, however, it can be much more better. An alternative for the company could be investing into something \n",
    "that generates more sales and is able to generate reasonable profits. We can find out what product can do that."
   ]
  },
  {
   "cell_type": "code",
   "execution_count": 68,
   "metadata": {},
   "outputs": [
    {
     "name": "stdout",
     "output_type": "stream",
     "text": [
      "451.152\n",
      "569     Chairs\n",
      "8120    Chairs\n",
      "Name: Sub-Category, dtype: object\n"
     ]
    }
   ],
   "source": [
    "max_sal_CA = max(df_st[df_st['City']=='San Francisco']['Sales'])\n",
    "print(max_sal_CA)\n",
    "print(df_st.loc[df_st['Sales']==max_sal_CA, 'Sub-Category'])"
   ]
  },
  {
   "cell_type": "markdown",
   "metadata": {},
   "source": [
    "Chairs is something the business company can invest more into for San Francisco as it will generate more sales and \n",
    "guarantee more profits. "
   ]
  },
  {
   "cell_type": "markdown",
   "metadata": {},
   "source": [
    "## Q2. Does having more discount contribute to more profit/sales/quantity?"
   ]
  },
  {
   "cell_type": "markdown",
   "metadata": {},
   "source": [
    "To answer this question, we are going to draw a scatterplot. The X variable is discount while Y variable is Profit"
   ]
  },
  {
   "cell_type": "code",
   "execution_count": 70,
   "metadata": {},
   "outputs": [
    {
     "data": {
      "image/png": "[encoded data removed]",
      "text/plain": [
       "<Figure size 432x288 with 1 Axes>"
      ]
     },
     "metadata": {
      "needs_background": "light"
     },
     "output_type": "display_data"
    }
   ],
   "source": [
    "plt.scatter(df_new['Discount'], df_new['Profit'])\n",
    "plt.title('Discount vs Profit')\n",
    "plt.xlabel('Discount')\n",
    "plt.ylabel('Profit')\n",
    "plt.show()"
   ]
  },
  {
   "cell_type": "code",
   "execution_count": 71,
   "metadata": {},
   "outputs": [
    {
     "data": {
      "image/png": "[encoded data removed]",
      "text/plain": [
       "<Figure size 432x288 with 1 Axes>"
      ]
     },
     "metadata": {
      "needs_background": "light"
     },
     "output_type": "display_data"
    }
   ],
   "source": [
    "plt.scatter(df_new['Discount'], df_new['Sales'])\n",
    "plt.title('Discount vs Sales')\n",
    "plt.xlabel('Discount')\n",
    "plt.ylabel('Sales')\n",
    "plt.show()"
   ]
  },
  {
   "cell_type": "code",
   "execution_count": 72,
   "metadata": {},
   "outputs": [
    {
     "data": {
      "image/png": "[encoded data removed]",
      "text/plain": [
       "<Figure size 432x288 with 1 Axes>"
      ]
     },
     "metadata": {
      "needs_background": "light"
     },
     "output_type": "display_data"
    }
   ],
   "source": [
    "plt.scatter(df_new['Discount'], df_new['Quantity'])\n",
    "plt.title('Discount vs Profit')\n",
    "plt.xlabel('Discount')\n",
    "plt.ylabel('Profit')\n",
    "plt.show()"
   ]
  },
  {
   "cell_type": "markdown",
   "metadata": {},
   "source": [
    "Clearly, discount is showing no relation to Profit, Quantity and Number of Sales. All three Scatterplots prove this as neither are linear. This is again an interesting aspect as generally discount has some kind of impact on both profit and sales. Even quantity will be have an effect as reducing a price on item generally sparks interest in customers to buy more. One explanation for this could be that none of the products are groceries/clothes. Even if there is a discount for a phone, the price will still be really high for a common man. Therefore, discount and quantity are not showing any association. "
   ]
  },
  {
   "cell_type": "markdown",
   "metadata": {},
   "source": [
    "## Q3. Does type of shipping mode have impact on sales/profit?"
   ]
  },
  {
   "cell_type": "markdown",
   "metadata": {},
   "source": [
    "We need to draw bar plots to visually check and then analyse it. "
   ]
  },
  {
   "cell_type": "code",
   "execution_count": 85,
   "metadata": {},
   "outputs": [
    {
     "data": {
      "image/png": "[encoded data removed]",
      "text/plain": [
       "<Figure size 432x288 with 1 Axes>"
      ]
     },
     "metadata": {
      "needs_background": "light"
     },
     "output_type": "display_data"
    }
   ],
   "source": [
    "plt.bar(df_new['Ship Mode'], df_new['Profit'])\n",
    "plt.show()"
   ]
  },
  {
   "cell_type": "code",
   "execution_count": 86,
   "metadata": {},
   "outputs": [
    {
     "data": {
      "image/png": "[encoded data removed]",
      "text/plain": [
       "<Figure size 432x288 with 1 Axes>"
      ]
     },
     "metadata": {
      "needs_background": "light"
     },
     "output_type": "display_data"
    }
   ],
   "source": [
    "plt.bar(df_new['Ship Mode'], df_new['Sales'])\n",
    "plt.show()"
   ]
  },
  {
   "cell_type": "markdown",
   "metadata": {},
   "source": [
    "The bar plots above proves that standard class and second class are the best options for the company. First class delivery does not guarantee higher sales and profits, therefore, the company should invest more into second class and standard class deliveries for the customers. "
   ]
  },
  {
   "cell_type": "markdown",
   "metadata": {},
   "source": [
    "## Q4 Does the type of segment/customer influence profit/sales? "
   ]
  },
  {
   "cell_type": "markdown",
   "metadata": {},
   "source": [
    "The final question asks which customer contributes more to profits and sales. This is important as the business company can increase more dealings with that segement. We will use a bar plot again. "
   ]
  },
  {
   "cell_type": "code",
   "execution_count": 87,
   "metadata": {},
   "outputs": [
    {
     "data": {
      "image/png": "[encoded data removed]",
      "text/plain": [
       "<Figure size 432x288 with 1 Axes>"
      ]
     },
     "metadata": {
      "needs_background": "light"
     },
     "output_type": "display_data"
    }
   ],
   "source": [
    "plt.bar(df_new['Segment'], df_new['Profit'])\n",
    "plt.show()"
   ]
  },
  {
   "cell_type": "code",
   "execution_count": 88,
   "metadata": {},
   "outputs": [
    {
     "data": {
      "image/png": "[encoded data removed]",
      "text/plain": [
       "<Figure size 432x288 with 1 Axes>"
      ]
     },
     "metadata": {
      "needs_background": "light"
     },
     "output_type": "display_data"
    }
   ],
   "source": [
    "plt.bar(df_new['Segment'], df_new['Sales'])\n",
    "plt.show()"
   ]
  },
  {
   "cell_type": "markdown",
   "metadata": {},
   "source": [
    "As it can be seen, all three types of segments generate about the same profit and sales. The business company should therefore continue their process of doing dealings with all three type of customers."
   ]
  },
  {
   "cell_type": "markdown",
   "metadata": {},
   "source": [
    "# Conclusion"
   ]
  },
  {
   "cell_type": "markdown",
   "metadata": {},
   "source": [
    "1. The company should bear in mind that just because a state receives higher number of dealings, it does not mean that there will be bigger profits and sales. This is proven with Question 1. Therefore, each state is crucial and should be given equal importance. \n",
    "2. However, that does not mean getting loss by delivering products which have no popularity among customers in certain cities and states. For example, the company should not invest too much on doing dealing with Arlington for chairs. Instead, they can invest on Paper which will guarantee profits in Arlington. Chairs on the other hand have a greater popularity in New York, so the company could make more revenue by doing more chair dealings with Hempsted. \n",
    "3. Having a discount on product is not propotional to profit or sales. However, the scatterplot recorded several data points with highest profit when there is no discount. Given all outliers were removed, these results can be trusted. Therefore, the business company can give discount on products, but it should not exceed 0.40 dollars. The inital assumption was 0.20 dollars when the individual discount data was checked. \n",
    "4. The business company can further reduce costs by giving more preference to both second class and standard class. These two shipping modes have generated more profit and sales in comparsion to first class delivery. Therefore, if the company wants to increase revenue, they should mostly decrease dealings which demand first class.\n",
    "5. The type of customer or segment does not impact profit or sales. Hence, the company should show equal importance to each customer if they have a dealing/order. "
   ]
  }
 ],
 "metadata": {
  "kernelspec": {
   "display_name": "Python 3",
   "language": "python",
   "name": "python3"
  },
  "language_info": {
   "codemirror_mode": {
    "name": "ipython",
    "version": 3
   },
   "file_extension": ".py",
   "mimetype": "text/x-python",
   "name": "python",
   "nbconvert_exporter": "python",
   "pygments_lexer": "ipython3",
   "version": "3.7.6"
  }
 },
 "nbformat": 4,
 "nbformat_minor": 4
}
